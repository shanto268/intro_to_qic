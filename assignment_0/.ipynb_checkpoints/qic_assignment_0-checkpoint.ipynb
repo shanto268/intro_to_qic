{
 "cells": [
  {
   "cell_type": "markdown",
   "metadata": {},
   "source": [
    "# Assignment 0: Single-qubit states, the Q Sphere and some simple Quantum Circuits"
   ]
  },
  {
   "cell_type": "markdown",
   "metadata": {},
   "source": [
    "In this lab, you will learn how to write `Qiskit` code and investigate manipulating single-qubit states, learn about the Q Sphere visualization tool from qiskit and get a very general introduction to the Quantum Circuit Model. These notes are not primary materials for this course and are intended to be used as supplementary materials in addition to the book - *Quantum Computation and Quantum Information* - and Dr. Farias' lectures.\n",
    "\n",
    "The purpose of this assignment is to review some base materials learned in the QIC class and see how those concepts are implemented computationally using qiskit and also to get some hands on experience using qiskit.\n",
    "\n",
    "**Before You Start:**\n",
    "\n",
    "\n",
    "If you have not used Jupyter notebooks before, take a look at the following video to quickly get started.\n",
    "- https://www.youtube.com/watch?v=jZ952vChhuI\n",
    "\n",
    "Remember, to run a cell in Jupyter notebooks, you press `Shift` + `Return/Enter` on your keyboard."
   ]
  },
  {
   "cell_type": "markdown",
   "metadata": {},
   "source": [
    "### Installing necessary packages"
   ]
  },
  {
   "cell_type": "markdown",
   "metadata": {},
   "source": [
    "Before we begin, you will need to install some prerequisites into your environment. Run the cell below to complete these installations. At the end, the cell outputs will be cleared."
   ]
  },
  {
   "cell_type": "code",
   "execution_count": 2,
   "metadata": {},
   "outputs": [
    {
     "name": "stdout",
     "output_type": "stream",
     "text": [
      "Processing /Users/sshanto/Library/Caches/pip/wheels/cd/00/6e/834f3eb7f176e20fbf7209954fbdfecda6557b24c8cc9b83a6/qiskit-0.19.0-py3-none-any.whl\n",
      "Collecting seaborn==0.10\n",
      "  Using cached seaborn-0.10.0-py3-none-any.whl (215 kB)\n",
      "Requirement already up-to-date: ipywidgets==7.5.1 in /Users/sshanto/anaconda3/lib/python3.8/site-packages (from -r requirements.txt (line 3)) (7.5.1)\n",
      "Requirement already satisfied, skipping upgrade: qiskit-ignis==0.3.0 in /usr/local/lib/python3.7/site-packages (from qiskit==0.19->-r requirements.txt (line 1)) (0.3.0)\n",
      "Requirement already satisfied, skipping upgrade: qiskit-ibmq-provider==0.7.0 in /usr/local/lib/python3.7/site-packages (from qiskit==0.19->-r requirements.txt (line 1)) (0.7.0)\n",
      "Requirement already satisfied, skipping upgrade: qiskit-aer==0.5.1 in /usr/local/lib/python3.7/site-packages (from qiskit==0.19->-r requirements.txt (line 1)) (0.5.1)\n",
      "Requirement already satisfied, skipping upgrade: qiskit-terra==0.14.0 in /Users/sshanto/anaconda3/lib/python3.8/site-packages (from qiskit==0.19->-r requirements.txt (line 1)) (0.14.0)\n",
      "Requirement already satisfied, skipping upgrade: qiskit-aqua==0.7.0 in /usr/local/lib/python3.7/site-packages (from qiskit==0.19->-r requirements.txt (line 1)) (0.7.0)\n",
      "Requirement already satisfied, skipping upgrade: numpy>=1.13.3 in /Users/sshanto/anaconda3/lib/python3.8/site-packages (from seaborn==0.10->-r requirements.txt (line 2)) (1.18.5)\n",
      "Requirement already satisfied, skipping upgrade: pandas>=0.22.0 in /usr/local/lib/python3.7/site-packages (from seaborn==0.10->-r requirements.txt (line 2)) (1.0.3)\n",
      "Requirement already satisfied, skipping upgrade: matplotlib>=2.1.2 in /Users/sshanto/anaconda3/lib/python3.8/site-packages (from seaborn==0.10->-r requirements.txt (line 2)) (3.2.2)\n",
      "Requirement already satisfied, skipping upgrade: scipy>=1.0.1 in /Users/sshanto/anaconda3/lib/python3.8/site-packages (from seaborn==0.10->-r requirements.txt (line 2)) (1.5.2)\n",
      "Requirement already satisfied, skipping upgrade: widgetsnbextension~=3.5.0 in /Users/sshanto/anaconda3/lib/python3.8/site-packages (from ipywidgets==7.5.1->-r requirements.txt (line 3)) (3.5.1)\n",
      "Requirement already satisfied, skipping upgrade: traitlets>=4.3.1 in /Users/sshanto/anaconda3/lib/python3.8/site-packages (from ipywidgets==7.5.1->-r requirements.txt (line 3)) (4.3.3)\n",
      "Requirement already satisfied, skipping upgrade: nbformat>=4.2.0 in /Users/sshanto/anaconda3/lib/python3.8/site-packages (from ipywidgets==7.5.1->-r requirements.txt (line 3)) (5.0.7)\n",
      "Requirement already satisfied, skipping upgrade: ipython>=4.0.0; python_version >= \"3.3\" in /Users/sshanto/anaconda3/lib/python3.8/site-packages (from ipywidgets==7.5.1->-r requirements.txt (line 3)) (7.16.1)\n",
      "Requirement already satisfied, skipping upgrade: ipykernel>=4.5.1 in /Users/sshanto/anaconda3/lib/python3.8/site-packages (from ipywidgets==7.5.1->-r requirements.txt (line 3)) (5.3.2)\n",
      "Requirement already satisfied, skipping upgrade: setuptools>=40.1.0 in /usr/local/lib/python3.7/site-packages (from qiskit-ignis==0.3.0->qiskit==0.19->-r requirements.txt (line 1)) (46.0.0)\n",
      "Requirement already satisfied, skipping upgrade: urllib3>=1.21.1 in /usr/local/lib/python3.7/site-packages (from qiskit-ibmq-provider==0.7.0->qiskit==0.19->-r requirements.txt (line 1)) (1.25.9)\n",
      "Requirement already satisfied, skipping upgrade: python-dateutil>=2.8.0 in /usr/local/lib/python3.7/site-packages (from qiskit-ibmq-provider==0.7.0->qiskit==0.19->-r requirements.txt (line 1)) (2.8.1)\n",
      "Requirement already satisfied, skipping upgrade: websockets<8,>=7 in /usr/local/lib/python3.7/site-packages (from qiskit-ibmq-provider==0.7.0->qiskit==0.19->-r requirements.txt (line 1)) (7.0)\n",
      "Requirement already satisfied, skipping upgrade: requests-ntlm>=1.1.0 in /usr/local/lib/python3.7/site-packages (from qiskit-ibmq-provider==0.7.0->qiskit==0.19->-r requirements.txt (line 1)) (1.1.0)\n",
      "Requirement already satisfied, skipping upgrade: requests>=2.19 in /usr/local/lib/python3.7/site-packages (from qiskit-ibmq-provider==0.7.0->qiskit==0.19->-r requirements.txt (line 1)) (2.23.0)\n",
      "Requirement already satisfied, skipping upgrade: nest-asyncio!=1.1.0,>=1.0.0 in /usr/local/lib/python3.7/site-packages (from qiskit-ibmq-provider==0.7.0->qiskit==0.19->-r requirements.txt (line 1)) (1.3.3)\n",
      "Requirement already satisfied, skipping upgrade: cython>=0.27.1 in /usr/local/lib/python3.7/site-packages (from qiskit-aer==0.5.1->qiskit==0.19->-r requirements.txt (line 1)) (0.29.17)\n",
      "Requirement already satisfied, skipping upgrade: pybind11>=2.4 in /usr/local/lib/python3.7/site-packages (from qiskit-aer==0.5.1->qiskit==0.19->-r requirements.txt (line 1)) (2.5.0)\n",
      "Requirement already satisfied, skipping upgrade: marshmallow-polyfield<6,>=5.7 in /usr/local/lib/python3.7/site-packages (from qiskit-terra==0.14.0->qiskit==0.19->-r requirements.txt (line 1)) (5.9)\n",
      "Requirement already satisfied, skipping upgrade: marshmallow<4,>=3 in /usr/local/lib/python3.7/site-packages (from qiskit-terra==0.14.0->qiskit==0.19->-r requirements.txt (line 1)) (3.5.2)\n",
      "Requirement already satisfied, skipping upgrade: ply>=3.10 in /usr/local/lib/python3.7/site-packages (from qiskit-terra==0.14.0->qiskit==0.19->-r requirements.txt (line 1)) (3.11)\n",
      "Requirement already satisfied, skipping upgrade: retworkx>=0.3.2 in /usr/local/lib/python3.7/site-packages (from qiskit-terra==0.14.0->qiskit==0.19->-r requirements.txt (line 1)) (0.3.4)\n",
      "Requirement already satisfied, skipping upgrade: dill>=0.3 in /usr/local/lib/python3.7/site-packages (from qiskit-terra==0.14.0->qiskit==0.19->-r requirements.txt (line 1)) (0.3.1.1)\n",
      "Requirement already satisfied, skipping upgrade: psutil>=5 in /Users/sshanto/anaconda3/lib/python3.8/site-packages (from qiskit-terra==0.14.0->qiskit==0.19->-r requirements.txt (line 1)) (5.7.0)\n",
      "Requirement already satisfied, skipping upgrade: sympy>=1.3 in /usr/local/lib/python3.7/site-packages (from qiskit-terra==0.14.0->qiskit==0.19->-r requirements.txt (line 1)) (1.5.1)\n",
      "Requirement already satisfied, skipping upgrade: fastjsonschema>=2.10 in /usr/local/lib/python3.7/site-packages (from qiskit-terra==0.14.0->qiskit==0.19->-r requirements.txt (line 1)) (2.14.4)\n",
      "Requirement already satisfied, skipping upgrade: python-constraint>=1.4 in /usr/local/lib/python3.7/site-packages (from qiskit-terra==0.14.0->qiskit==0.19->-r requirements.txt (line 1)) (1.4.0)\n",
      "Collecting networkx>=2.2; python_version > \"3.5\"\n",
      "  Using cached networkx-2.5-py3-none-any.whl (1.6 MB)\n",
      "Requirement already satisfied, skipping upgrade: jsonschema>=2.6 in /usr/local/lib/python3.7/site-packages (from qiskit-terra==0.14.0->qiskit==0.19->-r requirements.txt (line 1)) (3.2.0)\n",
      "Requirement already satisfied, skipping upgrade: fastdtw in /usr/local/lib/python3.7/site-packages (from qiskit-aqua==0.7.0->qiskit==0.19->-r requirements.txt (line 1)) (0.3.4)\n",
      "Requirement already satisfied, skipping upgrade: docplex in /usr/local/lib/python3.7/site-packages (from qiskit-aqua==0.7.0->qiskit==0.19->-r requirements.txt (line 1)) (2.13.184)\n",
      "Requirement already satisfied, skipping upgrade: quandl in /usr/local/lib/python3.7/site-packages (from qiskit-aqua==0.7.0->qiskit==0.19->-r requirements.txt (line 1)) (3.5.0)\n",
      "Requirement already satisfied, skipping upgrade: pyscf; sys_platform != \"win32\" in /usr/local/lib/python3.7/site-packages (from qiskit-aqua==0.7.0->qiskit==0.19->-r requirements.txt (line 1)) (1.7.1.post1)\n",
      "Requirement already satisfied, skipping upgrade: h5py in /usr/local/lib/python3.7/site-packages (from qiskit-aqua==0.7.0->qiskit==0.19->-r requirements.txt (line 1)) (2.10.0)\n",
      "Requirement already satisfied, skipping upgrade: dlx in /usr/local/lib/python3.7/site-packages (from qiskit-aqua==0.7.0->qiskit==0.19->-r requirements.txt (line 1)) (1.0.4)\n",
      "Requirement already satisfied, skipping upgrade: scikit-learn>=0.20.0 in /usr/local/lib/python3.7/site-packages (from qiskit-aqua==0.7.0->qiskit==0.19->-r requirements.txt (line 1)) (0.22.2.post1)\n",
      "Requirement already satisfied, skipping upgrade: pytz>=2017.2 in /usr/local/lib/python3.7/site-packages (from pandas>=0.22.0->seaborn==0.10->-r requirements.txt (line 2)) (2020.1)\n",
      "Requirement already satisfied, skipping upgrade: pyparsing!=2.0.4,!=2.1.2,!=2.1.6,>=2.0.1 in /usr/local/lib/python3.7/site-packages (from matplotlib>=2.1.2->seaborn==0.10->-r requirements.txt (line 2)) (2.4.7)\n",
      "Requirement already satisfied, skipping upgrade: kiwisolver>=1.0.1 in /usr/local/lib/python3.7/site-packages (from matplotlib>=2.1.2->seaborn==0.10->-r requirements.txt (line 2)) (1.2.0)\n"
     ]
    },
    {
     "name": "stdout",
     "output_type": "stream",
     "text": [
      "Requirement already satisfied, skipping upgrade: cycler>=0.10 in /usr/local/lib/python3.7/site-packages (from matplotlib>=2.1.2->seaborn==0.10->-r requirements.txt (line 2)) (0.10.0)\n",
      "Requirement already satisfied, skipping upgrade: notebook>=4.4.1 in /Users/sshanto/anaconda3/lib/python3.8/site-packages (from widgetsnbextension~=3.5.0->ipywidgets==7.5.1->-r requirements.txt (line 3)) (6.0.3)\n",
      "Requirement already satisfied, skipping upgrade: six in /usr/local/lib/python3.7/site-packages (from traitlets>=4.3.1->ipywidgets==7.5.1->-r requirements.txt (line 3)) (1.14.0)\n",
      "Requirement already satisfied, skipping upgrade: ipython-genutils in /Users/sshanto/anaconda3/lib/python3.8/site-packages (from traitlets>=4.3.1->ipywidgets==7.5.1->-r requirements.txt (line 3)) (0.2.0)\n",
      "Requirement already satisfied, skipping upgrade: decorator in /usr/local/lib/python3.7/site-packages (from traitlets>=4.3.1->ipywidgets==7.5.1->-r requirements.txt (line 3)) (4.4.2)\n",
      "Requirement already satisfied, skipping upgrade: jupyter-core in /Users/sshanto/anaconda3/lib/python3.8/site-packages (from nbformat>=4.2.0->ipywidgets==7.5.1->-r requirements.txt (line 3)) (4.6.3)\n",
      "Requirement already satisfied, skipping upgrade: jedi>=0.10 in /usr/local/lib/python3.7/site-packages (from ipython>=4.0.0; python_version >= \"3.3\"->ipywidgets==7.5.1->-r requirements.txt (line 3)) (0.16.0)\n",
      "Requirement already satisfied, skipping upgrade: appnope; sys_platform == \"darwin\" in /Users/sshanto/anaconda3/lib/python3.8/site-packages (from ipython>=4.0.0; python_version >= \"3.3\"->ipywidgets==7.5.1->-r requirements.txt (line 3)) (0.1.0)\n",
      "Requirement already satisfied, skipping upgrade: pexpect; sys_platform != \"win32\" in /Users/sshanto/anaconda3/lib/python3.8/site-packages (from ipython>=4.0.0; python_version >= \"3.3\"->ipywidgets==7.5.1->-r requirements.txt (line 3)) (4.8.0)\n",
      "Requirement already satisfied, skipping upgrade: pickleshare in /Users/sshanto/anaconda3/lib/python3.8/site-packages (from ipython>=4.0.0; python_version >= \"3.3\"->ipywidgets==7.5.1->-r requirements.txt (line 3)) (0.7.5)\n",
      "Requirement already satisfied, skipping upgrade: pygments in /Users/sshanto/anaconda3/lib/python3.8/site-packages (from ipython>=4.0.0; python_version >= \"3.3\"->ipywidgets==7.5.1->-r requirements.txt (line 3)) (2.6.1)\n",
      "Requirement already satisfied, skipping upgrade: backcall in /Users/sshanto/anaconda3/lib/python3.8/site-packages (from ipython>=4.0.0; python_version >= \"3.3\"->ipywidgets==7.5.1->-r requirements.txt (line 3)) (0.2.0)\n",
      "Requirement already satisfied, skipping upgrade: prompt-toolkit!=3.0.0,!=3.0.1,<3.1.0,>=2.0.0 in /Users/sshanto/anaconda3/lib/python3.8/site-packages (from ipython>=4.0.0; python_version >= \"3.3\"->ipywidgets==7.5.1->-r requirements.txt (line 3)) (3.0.5)\n",
      "Requirement already satisfied, skipping upgrade: jupyter-client in /Users/sshanto/anaconda3/lib/python3.8/site-packages (from ipykernel>=4.5.1->ipywidgets==7.5.1->-r requirements.txt (line 3)) (6.1.6)\n",
      "Requirement already satisfied, skipping upgrade: tornado>=4.2 in /Users/sshanto/anaconda3/lib/python3.8/site-packages (from ipykernel>=4.5.1->ipywidgets==7.5.1->-r requirements.txt (line 3)) (6.0.4)\n",
      "Requirement already satisfied, skipping upgrade: cryptography>=1.3 in /usr/local/lib/python3.7/site-packages (from requests-ntlm>=1.1.0->qiskit-ibmq-provider==0.7.0->qiskit==0.19->-r requirements.txt (line 1)) (2.9.2)\n",
      "Requirement already satisfied, skipping upgrade: ntlm-auth>=1.0.2 in /usr/local/lib/python3.7/site-packages (from requests-ntlm>=1.1.0->qiskit-ibmq-provider==0.7.0->qiskit==0.19->-r requirements.txt (line 1)) (1.4.0)\n",
      "Requirement already satisfied, skipping upgrade: certifi>=2017.4.17 in /usr/local/lib/python3.7/site-packages (from requests>=2.19->qiskit-ibmq-provider==0.7.0->qiskit==0.19->-r requirements.txt (line 1)) (2020.4.5.1)\n",
      "Requirement already satisfied, skipping upgrade: idna<3,>=2.5 in /usr/local/lib/python3.7/site-packages (from requests>=2.19->qiskit-ibmq-provider==0.7.0->qiskit==0.19->-r requirements.txt (line 1)) (2.9)\n",
      "Requirement already satisfied, skipping upgrade: chardet<4,>=3.0.2 in /usr/local/lib/python3.7/site-packages (from requests>=2.19->qiskit-ibmq-provider==0.7.0->qiskit==0.19->-r requirements.txt (line 1)) (3.0.4)\n",
      "Requirement already satisfied, skipping upgrade: mpmath>=0.19 in /usr/local/lib/python3.7/site-packages (from sympy>=1.3->qiskit-terra==0.14.0->qiskit==0.19->-r requirements.txt (line 1)) (1.1.0)\n",
      "Requirement already satisfied, skipping upgrade: pyrsistent>=0.14.0 in /usr/local/lib/python3.7/site-packages (from jsonschema>=2.6->qiskit-terra==0.14.0->qiskit==0.19->-r requirements.txt (line 1)) (0.16.0)\n",
      "Requirement already satisfied, skipping upgrade: attrs>=17.4.0 in /usr/local/lib/python3.7/site-packages (from jsonschema>=2.6->qiskit-terra==0.14.0->qiskit==0.19->-r requirements.txt (line 1)) (19.3.0)\n",
      "Requirement already satisfied, skipping upgrade: inflection>=0.3.1 in /usr/local/lib/python3.7/site-packages (from quandl->qiskit-aqua==0.7.0->qiskit==0.19->-r requirements.txt (line 1)) (0.4.0)\n",
      "Requirement already satisfied, skipping upgrade: more-itertools in /usr/local/lib/python3.7/site-packages (from quandl->qiskit-aqua==0.7.0->qiskit==0.19->-r requirements.txt (line 1)) (8.2.0)\n",
      "Requirement already satisfied, skipping upgrade: joblib>=0.11 in /usr/local/lib/python3.7/site-packages (from scikit-learn>=0.20.0->qiskit-aqua==0.7.0->qiskit==0.19->-r requirements.txt (line 1)) (0.14.1)\n",
      "Requirement already satisfied, skipping upgrade: jinja2 in /Users/sshanto/anaconda3/lib/python3.8/site-packages (from notebook>=4.4.1->widgetsnbextension~=3.5.0->ipywidgets==7.5.1->-r requirements.txt (line 3)) (2.11.2)\n",
      "Requirement already satisfied, skipping upgrade: terminado>=0.8.1 in /Users/sshanto/anaconda3/lib/python3.8/site-packages (from notebook>=4.4.1->widgetsnbextension~=3.5.0->ipywidgets==7.5.1->-r requirements.txt (line 3)) (0.8.3)\n",
      "Requirement already satisfied, skipping upgrade: prometheus-client in /Users/sshanto/anaconda3/lib/python3.8/site-packages (from notebook>=4.4.1->widgetsnbextension~=3.5.0->ipywidgets==7.5.1->-r requirements.txt (line 3)) (0.8.0)\n",
      "Requirement already satisfied, skipping upgrade: Send2Trash in /Users/sshanto/anaconda3/lib/python3.8/site-packages (from notebook>=4.4.1->widgetsnbextension~=3.5.0->ipywidgets==7.5.1->-r requirements.txt (line 3)) (1.5.0)\n",
      "Requirement already satisfied, skipping upgrade: nbconvert in /Users/sshanto/anaconda3/lib/python3.8/site-packages (from notebook>=4.4.1->widgetsnbextension~=3.5.0->ipywidgets==7.5.1->-r requirements.txt (line 3)) (5.6.1)\n",
      "Requirement already satisfied, skipping upgrade: pyzmq>=17 in /Users/sshanto/anaconda3/lib/python3.8/site-packages (from notebook>=4.4.1->widgetsnbextension~=3.5.0->ipywidgets==7.5.1->-r requirements.txt (line 3)) (19.0.1)\n",
      "Requirement already satisfied, skipping upgrade: parso>=0.5.2 in /Users/sshanto/anaconda3/lib/python3.8/site-packages (from jedi>=0.10->ipython>=4.0.0; python_version >= \"3.3\"->ipywidgets==7.5.1->-r requirements.txt (line 3)) (0.7.0)\n",
      "Requirement already satisfied, skipping upgrade: ptyprocess>=0.5 in /Users/sshanto/anaconda3/lib/python3.8/site-packages (from pexpect; sys_platform != \"win32\"->ipython>=4.0.0; python_version >= \"3.3\"->ipywidgets==7.5.1->-r requirements.txt (line 3)) (0.6.0)\n",
      "Requirement already satisfied, skipping upgrade: wcwidth in /Users/sshanto/anaconda3/lib/python3.8/site-packages (from prompt-toolkit!=3.0.0,!=3.0.1,<3.1.0,>=2.0.0->ipython>=4.0.0; python_version >= \"3.3\"->ipywidgets==7.5.1->-r requirements.txt (line 3)) (0.2.5)\n",
      "Requirement already satisfied, skipping upgrade: cffi!=1.11.3,>=1.8 in /usr/local/lib/python3.7/site-packages (from cryptography>=1.3->requests-ntlm>=1.1.0->qiskit-ibmq-provider==0.7.0->qiskit==0.19->-r requirements.txt (line 1)) (1.14.0)\n",
      "Requirement already satisfied, skipping upgrade: MarkupSafe>=0.23 in /Users/sshanto/anaconda3/lib/python3.8/site-packages (from jinja2->notebook>=4.4.1->widgetsnbextension~=3.5.0->ipywidgets==7.5.1->-r requirements.txt (line 3)) (1.1.1)\n",
      "Requirement already satisfied, skipping upgrade: defusedxml in /Users/sshanto/anaconda3/lib/python3.8/site-packages (from nbconvert->notebook>=4.4.1->widgetsnbextension~=3.5.0->ipywidgets==7.5.1->-r requirements.txt (line 3)) (0.6.0)\n",
      "Requirement already satisfied, skipping upgrade: entrypoints>=0.2.2 in /Users/sshanto/anaconda3/lib/python3.8/site-packages (from nbconvert->notebook>=4.4.1->widgetsnbextension~=3.5.0->ipywidgets==7.5.1->-r requirements.txt (line 3)) (0.3)\n",
      "Requirement already satisfied, skipping upgrade: bleach in /Users/sshanto/anaconda3/lib/python3.8/site-packages (from nbconvert->notebook>=4.4.1->widgetsnbextension~=3.5.0->ipywidgets==7.5.1->-r requirements.txt (line 3)) (3.1.5)\n",
      "Requirement already satisfied, skipping upgrade: pandocfilters>=1.4.1 in /Users/sshanto/anaconda3/lib/python3.8/site-packages (from nbconvert->notebook>=4.4.1->widgetsnbextension~=3.5.0->ipywidgets==7.5.1->-r requirements.txt (line 3)) (1.4.2)\n",
      "Requirement already satisfied, skipping upgrade: mistune<2,>=0.8.1 in /Users/sshanto/anaconda3/lib/python3.8/site-packages (from nbconvert->notebook>=4.4.1->widgetsnbextension~=3.5.0->ipywidgets==7.5.1->-r requirements.txt (line 3)) (0.8.4)\n"
     ]
    },
    {
     "name": "stdout",
     "output_type": "stream",
     "text": [
      "Requirement already satisfied, skipping upgrade: testpath in /Users/sshanto/anaconda3/lib/python3.8/site-packages (from nbconvert->notebook>=4.4.1->widgetsnbextension~=3.5.0->ipywidgets==7.5.1->-r requirements.txt (line 3)) (0.4.4)\n",
      "Requirement already satisfied, skipping upgrade: pycparser in /usr/local/lib/python3.7/site-packages (from cffi!=1.11.3,>=1.8->cryptography>=1.3->requests-ntlm>=1.1.0->qiskit-ibmq-provider==0.7.0->qiskit==0.19->-r requirements.txt (line 1)) (2.20)\n",
      "Requirement already satisfied, skipping upgrade: packaging in /Users/sshanto/anaconda3/lib/python3.8/site-packages (from bleach->nbconvert->notebook>=4.4.1->widgetsnbextension~=3.5.0->ipywidgets==7.5.1->-r requirements.txt (line 3)) (20.4)\n",
      "Requirement already satisfied, skipping upgrade: webencodings in /Users/sshanto/anaconda3/lib/python3.8/site-packages (from bleach->nbconvert->notebook>=4.4.1->widgetsnbextension~=3.5.0->ipywidgets==7.5.1->-r requirements.txt (line 3)) (0.5.1)\n",
      "Installing collected packages: qiskit, seaborn, networkx\n",
      "  Attempting uninstall: qiskit\n",
      "    Found existing installation: qiskit 0.19.1\n",
      "    Uninstalling qiskit-0.19.1:\n",
      "\u001b[31mERROR: Could not install packages due to an EnvironmentError: [Errno 13] Permission denied: 'RECORD'\n",
      "Consider using the `--user` option or check the permissions.\n",
      "\u001b[0m\n"
     ]
    }
   ],
   "source": [
    "#!pip install -U -r requirements.txt\n",
    "\n",
    "!python -m pip install --user -r requirements.txt\n",
    "\n",
    "from IPython.display import clear_output\n"
   ]
  },
  {
   "cell_type": "markdown",
   "metadata": {},
   "source": [
    "# Single-qubit states"
   ]
  },
  {
   "cell_type": "markdown",
   "metadata": {},
   "source": [
    "From chapter 1 of *Quantum Computation and Quantum Information*, we learned that single qubit states can be written down generally as \n",
    "\n",
    "$$\\sqrt{1-p}\\vert0\\rangle + e^{i\\phi}\\sqrt{p}\\vert1\\rangle$$\n",
    "\n",
    "Here, $p$ is the probability that a measurement of the state in the computational basis $\\{\\vert0\\rangle, \\vert1\\rangle\\}$ will have the outcome $1$, and $\\phi$ is the phase between the two computational basis states. \n",
    "\n",
    "Single-qubit gates can then be used to manipulate this quantum state by changing either $p$, $\\phi$, or both.\n",
    "\n",
    "Let's begin by creating a single-qubit quantum circuit. We can do this in `Qiskit` using the following:"
   ]
  },
  {
   "cell_type": "code",
   "execution_count": 2,
   "metadata": {},
   "outputs": [
    {
     "name": "stderr",
     "output_type": "stream",
     "text": [
      "/Users/sshanto/anaconda3/lib/python3.8/site-packages/qiskit/__init__.py:62: RuntimeWarning: Could not import the Aer provider from the qiskit-aer package. Install qiskit-aer or check your installation.\n",
      "  warnings.warn('Could not import the Aer provider from the qiskit-aer '\n",
      "/Users/sshanto/anaconda3/lib/python3.8/site-packages/qiskit/__init__.py:72: RuntimeWarning: Could not import the IBMQ provider from the qiskit-ibmq-provider package. Install qiskit-ibmq-provider or check your installation.\n",
      "  warnings.warn('Could not import the IBMQ provider from the '\n"
     ]
    },
    {
     "ename": "ModuleNotFoundError",
     "evalue": "No module named 'retworkx.retworkx'",
     "output_type": "error",
     "traceback": [
      "\u001b[0;31m---------------------------------------------------------------------------\u001b[0m",
      "\u001b[0;31mModuleNotFoundError\u001b[0m                       Traceback (most recent call last)",
      "\u001b[0;32m<ipython-input-2-98e8b0691d01>\u001b[0m in \u001b[0;36m<module>\u001b[0;34m\u001b[0m\n\u001b[0;32m----> 1\u001b[0;31m \u001b[0;32mfrom\u001b[0m \u001b[0mqiskit\u001b[0m \u001b[0;32mimport\u001b[0m \u001b[0mQuantumCircuit\u001b[0m\u001b[0;34m\u001b[0m\u001b[0;34m\u001b[0m\u001b[0m\n\u001b[0m\u001b[1;32m      2\u001b[0m \u001b[0;34m\u001b[0m\u001b[0m\n\u001b[1;32m      3\u001b[0m \u001b[0mnum_qubits\u001b[0m \u001b[0;34m=\u001b[0m \u001b[0;36m1\u001b[0m\u001b[0;34m\u001b[0m\u001b[0;34m\u001b[0m\u001b[0m\n\u001b[1;32m      4\u001b[0m \u001b[0;34m\u001b[0m\u001b[0m\n\u001b[1;32m      5\u001b[0m \u001b[0mmycircuit\u001b[0m \u001b[0;34m=\u001b[0m \u001b[0mQuantumCircuit\u001b[0m\u001b[0;34m(\u001b[0m\u001b[0mnum_qubits\u001b[0m\u001b[0;34m)\u001b[0m\u001b[0;34m\u001b[0m\u001b[0;34m\u001b[0m\u001b[0m\n",
      "\u001b[0;32m~/anaconda3/lib/python3.8/site-packages/qiskit/__init__.py\u001b[0m in \u001b[0;36m<module>\u001b[0;34m\u001b[0m\n\u001b[1;32m     77\u001b[0m \u001b[0;31m# Moved to after IBMQ and Aer imports due to import issues\u001b[0m\u001b[0;34m\u001b[0m\u001b[0;34m\u001b[0m\u001b[0;34m\u001b[0m\u001b[0m\n\u001b[1;32m     78\u001b[0m \u001b[0;31m# with other modules that check for IBMQ (tools)\u001b[0m\u001b[0;34m\u001b[0m\u001b[0;34m\u001b[0m\u001b[0;34m\u001b[0m\u001b[0m\n\u001b[0;32m---> 79\u001b[0;31m \u001b[0;32mfrom\u001b[0m \u001b[0mqiskit\u001b[0m\u001b[0;34m.\u001b[0m\u001b[0mexecute\u001b[0m \u001b[0;32mimport\u001b[0m \u001b[0mexecute\u001b[0m  \u001b[0;31m# noqa\u001b[0m\u001b[0;34m\u001b[0m\u001b[0;34m\u001b[0m\u001b[0m\n\u001b[0m\u001b[1;32m     80\u001b[0m \u001b[0;32mfrom\u001b[0m \u001b[0mqiskit\u001b[0m\u001b[0;34m.\u001b[0m\u001b[0mcompiler\u001b[0m \u001b[0;32mimport\u001b[0m \u001b[0mtranspile\u001b[0m\u001b[0;34m,\u001b[0m \u001b[0massemble\u001b[0m\u001b[0;34m,\u001b[0m \u001b[0mschedule\u001b[0m  \u001b[0;31m# noqa\u001b[0m\u001b[0;34m\u001b[0m\u001b[0;34m\u001b[0m\u001b[0m\n\u001b[1;32m     81\u001b[0m \u001b[0;34m\u001b[0m\u001b[0m\n",
      "\u001b[0;32m~/anaconda3/lib/python3.8/site-packages/qiskit/execute.py\u001b[0m in \u001b[0;36m<module>\u001b[0;34m\u001b[0m\n\u001b[1;32m     24\u001b[0m \u001b[0;32mimport\u001b[0m \u001b[0mlogging\u001b[0m\u001b[0;34m\u001b[0m\u001b[0;34m\u001b[0m\u001b[0m\n\u001b[1;32m     25\u001b[0m \u001b[0;32mfrom\u001b[0m \u001b[0mtime\u001b[0m \u001b[0;32mimport\u001b[0m \u001b[0mtime\u001b[0m\u001b[0;34m\u001b[0m\u001b[0;34m\u001b[0m\u001b[0m\n\u001b[0;32m---> 26\u001b[0;31m \u001b[0;32mfrom\u001b[0m \u001b[0mqiskit\u001b[0m\u001b[0;34m.\u001b[0m\u001b[0mcompiler\u001b[0m \u001b[0;32mimport\u001b[0m \u001b[0mtranspile\u001b[0m\u001b[0;34m,\u001b[0m \u001b[0massemble\u001b[0m\u001b[0;34m,\u001b[0m \u001b[0mschedule\u001b[0m\u001b[0;34m\u001b[0m\u001b[0;34m\u001b[0m\u001b[0m\n\u001b[0m\u001b[1;32m     27\u001b[0m \u001b[0;32mfrom\u001b[0m \u001b[0mqiskit\u001b[0m\u001b[0;34m.\u001b[0m\u001b[0mqobj\u001b[0m\u001b[0;34m.\u001b[0m\u001b[0mutils\u001b[0m \u001b[0;32mimport\u001b[0m \u001b[0mMeasLevel\u001b[0m\u001b[0;34m,\u001b[0m \u001b[0mMeasReturnType\u001b[0m\u001b[0;34m\u001b[0m\u001b[0;34m\u001b[0m\u001b[0m\n\u001b[1;32m     28\u001b[0m \u001b[0;32mfrom\u001b[0m \u001b[0mqiskit\u001b[0m\u001b[0;34m.\u001b[0m\u001b[0mpulse\u001b[0m \u001b[0;32mimport\u001b[0m \u001b[0mSchedule\u001b[0m\u001b[0;34m\u001b[0m\u001b[0;34m\u001b[0m\u001b[0m\n",
      "\u001b[0;32m~/anaconda3/lib/python3.8/site-packages/qiskit/compiler/__init__.py\u001b[0m in \u001b[0;36m<module>\u001b[0;34m\u001b[0m\n\u001b[1;32m     33\u001b[0m \u001b[0;34m\u001b[0m\u001b[0m\n\u001b[1;32m     34\u001b[0m \u001b[0;32mfrom\u001b[0m \u001b[0;34m.\u001b[0m\u001b[0massemble\u001b[0m \u001b[0;32mimport\u001b[0m \u001b[0massemble\u001b[0m\u001b[0;34m\u001b[0m\u001b[0;34m\u001b[0m\u001b[0m\n\u001b[0;32m---> 35\u001b[0;31m \u001b[0;32mfrom\u001b[0m \u001b[0;34m.\u001b[0m\u001b[0mtranspile\u001b[0m \u001b[0;32mimport\u001b[0m \u001b[0mtranspile\u001b[0m\u001b[0;34m\u001b[0m\u001b[0;34m\u001b[0m\u001b[0m\n\u001b[0m\u001b[1;32m     36\u001b[0m \u001b[0;32mfrom\u001b[0m \u001b[0;34m.\u001b[0m\u001b[0mschedule\u001b[0m \u001b[0;32mimport\u001b[0m \u001b[0mschedule\u001b[0m\u001b[0;34m\u001b[0m\u001b[0;34m\u001b[0m\u001b[0m\n",
      "\u001b[0;32m~/anaconda3/lib/python3.8/site-packages/qiskit/compiler/transpile.py\u001b[0m in \u001b[0;36m<module>\u001b[0;34m\u001b[0m\n\u001b[1;32m     21\u001b[0m \u001b[0;32mfrom\u001b[0m \u001b[0mqiskit\u001b[0m\u001b[0;34m.\u001b[0m\u001b[0mproviders\u001b[0m \u001b[0;32mimport\u001b[0m \u001b[0mBaseBackend\u001b[0m\u001b[0;34m\u001b[0m\u001b[0;34m\u001b[0m\u001b[0m\n\u001b[1;32m     22\u001b[0m \u001b[0;32mfrom\u001b[0m \u001b[0mqiskit\u001b[0m\u001b[0;34m.\u001b[0m\u001b[0mproviders\u001b[0m\u001b[0;34m.\u001b[0m\u001b[0mmodels\u001b[0m \u001b[0;32mimport\u001b[0m \u001b[0mBackendProperties\u001b[0m\u001b[0;34m\u001b[0m\u001b[0;34m\u001b[0m\u001b[0m\n\u001b[0;32m---> 23\u001b[0;31m \u001b[0;32mfrom\u001b[0m \u001b[0mqiskit\u001b[0m\u001b[0;34m.\u001b[0m\u001b[0mtranspiler\u001b[0m \u001b[0;32mimport\u001b[0m \u001b[0mLayout\u001b[0m\u001b[0;34m,\u001b[0m \u001b[0mCouplingMap\u001b[0m\u001b[0;34m,\u001b[0m \u001b[0mPropertySet\u001b[0m\u001b[0;34m,\u001b[0m \u001b[0mPassManager\u001b[0m\u001b[0;34m\u001b[0m\u001b[0;34m\u001b[0m\u001b[0m\n\u001b[0m\u001b[1;32m     24\u001b[0m \u001b[0;32mfrom\u001b[0m \u001b[0mqiskit\u001b[0m\u001b[0;34m.\u001b[0m\u001b[0mtranspiler\u001b[0m\u001b[0;34m.\u001b[0m\u001b[0mbasepasses\u001b[0m \u001b[0;32mimport\u001b[0m \u001b[0mBasePass\u001b[0m\u001b[0;34m\u001b[0m\u001b[0;34m\u001b[0m\u001b[0m\n\u001b[1;32m     25\u001b[0m \u001b[0;32mfrom\u001b[0m \u001b[0mqiskit\u001b[0m\u001b[0;34m.\u001b[0m\u001b[0mdagcircuit\u001b[0m \u001b[0;32mimport\u001b[0m \u001b[0mDAGCircuit\u001b[0m\u001b[0;34m\u001b[0m\u001b[0;34m\u001b[0m\u001b[0m\n",
      "\u001b[0;32m~/anaconda3/lib/python3.8/site-packages/qiskit/transpiler/__init__.py\u001b[0m in \u001b[0;36m<module>\u001b[0;34m\u001b[0m\n\u001b[1;32m     59\u001b[0m \"\"\"\n\u001b[1;32m     60\u001b[0m \u001b[0;34m\u001b[0m\u001b[0m\n\u001b[0;32m---> 61\u001b[0;31m \u001b[0;32mfrom\u001b[0m \u001b[0;34m.\u001b[0m\u001b[0mrunningpassmanager\u001b[0m \u001b[0;32mimport\u001b[0m \u001b[0mFlowController\u001b[0m\u001b[0;34m\u001b[0m\u001b[0;34m\u001b[0m\u001b[0m\n\u001b[0m\u001b[1;32m     62\u001b[0m \u001b[0;32mfrom\u001b[0m \u001b[0;34m.\u001b[0m\u001b[0mpassmanager\u001b[0m \u001b[0;32mimport\u001b[0m \u001b[0mPassManager\u001b[0m\u001b[0;34m\u001b[0m\u001b[0;34m\u001b[0m\u001b[0m\n\u001b[1;32m     63\u001b[0m \u001b[0;32mfrom\u001b[0m \u001b[0;34m.\u001b[0m\u001b[0mpassmanager_config\u001b[0m \u001b[0;32mimport\u001b[0m \u001b[0mPassManagerConfig\u001b[0m\u001b[0;34m\u001b[0m\u001b[0;34m\u001b[0m\u001b[0m\n",
      "\u001b[0;32m~/anaconda3/lib/python3.8/site-packages/qiskit/transpiler/runningpassmanager.py\u001b[0m in \u001b[0;36m<module>\u001b[0;34m\u001b[0m\n\u001b[1;32m     21\u001b[0m \u001b[0;32mfrom\u001b[0m \u001b[0mtime\u001b[0m \u001b[0;32mimport\u001b[0m \u001b[0mtime\u001b[0m\u001b[0;34m\u001b[0m\u001b[0;34m\u001b[0m\u001b[0m\n\u001b[1;32m     22\u001b[0m \u001b[0;34m\u001b[0m\u001b[0m\n\u001b[0;32m---> 23\u001b[0;31m \u001b[0;32mfrom\u001b[0m \u001b[0mqiskit\u001b[0m\u001b[0;34m.\u001b[0m\u001b[0mdagcircuit\u001b[0m \u001b[0;32mimport\u001b[0m \u001b[0mDAGCircuit\u001b[0m\u001b[0;34m\u001b[0m\u001b[0;34m\u001b[0m\u001b[0m\n\u001b[0m\u001b[1;32m     24\u001b[0m \u001b[0;32mfrom\u001b[0m \u001b[0mqiskit\u001b[0m\u001b[0;34m.\u001b[0m\u001b[0mconverters\u001b[0m \u001b[0;32mimport\u001b[0m \u001b[0mcircuit_to_dag\u001b[0m\u001b[0;34m,\u001b[0m \u001b[0mdag_to_circuit\u001b[0m\u001b[0;34m\u001b[0m\u001b[0;34m\u001b[0m\u001b[0m\n\u001b[1;32m     25\u001b[0m \u001b[0;32mfrom\u001b[0m \u001b[0;34m.\u001b[0m\u001b[0mpropertyset\u001b[0m \u001b[0;32mimport\u001b[0m \u001b[0mPropertySet\u001b[0m\u001b[0;34m\u001b[0m\u001b[0;34m\u001b[0m\u001b[0m\n",
      "\u001b[0;32m~/anaconda3/lib/python3.8/site-packages/qiskit/dagcircuit/__init__.py\u001b[0m in \u001b[0;36m<module>\u001b[0;34m\u001b[0m\n\u001b[1;32m     37\u001b[0m    \u001b[0mDAGCircuitError\u001b[0m\u001b[0;34m\u001b[0m\u001b[0;34m\u001b[0m\u001b[0m\n\u001b[1;32m     38\u001b[0m \"\"\"\n\u001b[0;32m---> 39\u001b[0;31m \u001b[0;32mfrom\u001b[0m \u001b[0;34m.\u001b[0m\u001b[0mdagcircuit\u001b[0m \u001b[0;32mimport\u001b[0m \u001b[0mDAGCircuit\u001b[0m\u001b[0;34m\u001b[0m\u001b[0;34m\u001b[0m\u001b[0m\n\u001b[0m\u001b[1;32m     40\u001b[0m \u001b[0;32mfrom\u001b[0m \u001b[0;34m.\u001b[0m\u001b[0mdagnode\u001b[0m \u001b[0;32mimport\u001b[0m \u001b[0mDAGNode\u001b[0m\u001b[0;34m\u001b[0m\u001b[0;34m\u001b[0m\u001b[0m\n\u001b[1;32m     41\u001b[0m \u001b[0;32mfrom\u001b[0m \u001b[0;34m.\u001b[0m\u001b[0mexceptions\u001b[0m \u001b[0;32mimport\u001b[0m \u001b[0mDAGCircuitError\u001b[0m\u001b[0;34m\u001b[0m\u001b[0;34m\u001b[0m\u001b[0m\n",
      "\u001b[0;32m~/anaconda3/lib/python3.8/site-packages/qiskit/dagcircuit/dagcircuit.py\u001b[0m in \u001b[0;36m<module>\u001b[0;34m\u001b[0m\n\u001b[1;32m     29\u001b[0m \u001b[0;32mimport\u001b[0m \u001b[0mitertools\u001b[0m\u001b[0;34m\u001b[0m\u001b[0;34m\u001b[0m\u001b[0m\n\u001b[1;32m     30\u001b[0m \u001b[0;32mimport\u001b[0m \u001b[0mnetworkx\u001b[0m \u001b[0;32mas\u001b[0m \u001b[0mnx\u001b[0m\u001b[0;34m\u001b[0m\u001b[0;34m\u001b[0m\u001b[0m\n\u001b[0;32m---> 31\u001b[0;31m \u001b[0;32mimport\u001b[0m \u001b[0mretworkx\u001b[0m \u001b[0;32mas\u001b[0m \u001b[0mrx\u001b[0m\u001b[0;34m\u001b[0m\u001b[0;34m\u001b[0m\u001b[0m\n\u001b[0m\u001b[1;32m     32\u001b[0m \u001b[0;34m\u001b[0m\u001b[0m\n\u001b[1;32m     33\u001b[0m \u001b[0;32mfrom\u001b[0m \u001b[0mqiskit\u001b[0m\u001b[0;34m.\u001b[0m\u001b[0mcircuit\u001b[0m\u001b[0;34m.\u001b[0m\u001b[0mquantumregister\u001b[0m \u001b[0;32mimport\u001b[0m \u001b[0mQuantumRegister\u001b[0m\u001b[0;34m,\u001b[0m \u001b[0mQubit\u001b[0m\u001b[0;34m\u001b[0m\u001b[0;34m\u001b[0m\u001b[0m\n",
      "\u001b[0;32m/usr/local/lib/python3.7/site-packages/retworkx/__init__.py\u001b[0m in \u001b[0;36m<module>\u001b[0;34m\u001b[0m\n\u001b[0;32m----> 1\u001b[0;31m \u001b[0;32mfrom\u001b[0m \u001b[0;34m.\u001b[0m\u001b[0mretworkx\u001b[0m \u001b[0;32mimport\u001b[0m \u001b[0;34m*\u001b[0m\u001b[0;34m\u001b[0m\u001b[0;34m\u001b[0m\u001b[0m\n\u001b[0m",
      "\u001b[0;31mModuleNotFoundError\u001b[0m: No module named 'retworkx.retworkx'"
     ]
    }
   ],
   "source": [
    "from qiskit import QuantumCircuit\n",
    "\n",
    "num_qubits = 1\n",
    "\n",
    "mycircuit = QuantumCircuit(num_qubits)\n",
    "mycircuit.draw(\"mpl\")"
   ]
  },
  {
   "cell_type": "markdown",
   "metadata": {},
   "source": [
    "The above quantum circuit does not contain any gates. Therefore, if you start in any state, say $\\vert0\\rangle$, applying this circuit to your state doesn't change the state. \n",
    "\n",
    "To see this clearly, let's create the statevector $\\vert0\\rangle$. In `Qiskit`, you can do this using the following:"
   ]
  },
  {
   "cell_type": "code",
   "execution_count": null,
   "metadata": {},
   "outputs": [],
   "source": [
    "from qiskit.quantum_info import Statevector\n",
    "\n",
    "sv = Statevector.from_label(\"0\")"
   ]
  },
  {
   "cell_type": "markdown",
   "metadata": {},
   "source": [
    "You can see what's contained in the object `sv`:"
   ]
  },
  {
   "cell_type": "code",
   "execution_count": null,
   "metadata": {},
   "outputs": [],
   "source": [
    "sv"
   ]
  },
  {
   "cell_type": "markdown",
   "metadata": {},
   "source": [
    "The vector itself can be found by writing"
   ]
  },
  {
   "cell_type": "code",
   "execution_count": null,
   "metadata": {},
   "outputs": [],
   "source": [
    "sv.data"
   ]
  },
  {
   "cell_type": "markdown",
   "metadata": {},
   "source": [
    "As you can see, the above matches what we expect. Recall that $$\\vert0\\rangle = \\begin{bmatrix}1\\\\0\\end{bmatrix}$$\n",
    "\n",
    "We can now apply the quantum circuit `mycircuit` to this state by using the following:"
   ]
  },
  {
   "cell_type": "code",
   "execution_count": null,
   "metadata": {},
   "outputs": [],
   "source": [
    "new_sv = sv.evolve(mycircuit)"
   ]
  },
  {
   "cell_type": "markdown",
   "metadata": {},
   "source": [
    "Once again, you can look at the new statevector by writing"
   ]
  },
  {
   "cell_type": "code",
   "execution_count": null,
   "metadata": {},
   "outputs": [],
   "source": [
    "new_sv"
   ]
  },
  {
   "cell_type": "markdown",
   "metadata": {},
   "source": [
    "As you can see, the statevector hasn't changed. Recall the concept of state projection that you learned in Chapter 1. You can compute the projection of `new_sv` onto `sv` by writing"
   ]
  },
  {
   "cell_type": "code",
   "execution_count": null,
   "metadata": {},
   "outputs": [],
   "source": [
    "from qiskit.quantum_info import state_fidelity\n",
    "\n",
    "state_fidelity(sv, new_sv)"
   ]
  },
  {
   "cell_type": "markdown",
   "metadata": {},
   "source": [
    "As you can see, the projection of `new_sv` onto `sv` is 1, indicating that the two states are identical. You can visualize this state using the `qsphere` by writing"
   ]
  },
  {
   "cell_type": "markdown",
   "metadata": {},
   "source": [
    "# QSphere\n",
    "\n",
    "The q-sphere represents the state of a system of qubits by associating each computational basis state with a point on the surface of a sphere. A node is visible at each point. Each node’s radius is proportional to the magnitude of its basis state’s amplitude. Each node’s color indicates the phase angle of its basis state’s amplitude.\n",
    "\n",
    "The nodes are laid out on the q-sphere so that the basis state with all zeros (e.g., $\\vert000\\rangle$ is at its north pole, and the basis state with all ones (e.g., $\\vert111\\rangle$) is at its south pole. Basis states with the same number of zeros (or ones) lie on a shared latitude of the q-sphere (e.g., $\\vert001\\rangle$, $\\vert010\\rangle$, $\\vert001\\rangle$ ). Beginning at the north pole of the q-sphere and progressing southward, each successive latitude has basis states with a greater number of ones."
   ]
  },
  {
   "cell_type": "code",
   "execution_count": null,
   "metadata": {},
   "outputs": [],
   "source": [
    "from qiskit.visualization import plot_state_qsphere\n",
    "\n",
    "plot_state_qsphere(sv.data)"
   ]
  },
  {
   "cell_type": "markdown",
   "metadata": {},
   "source": [
    "As expected the `sv` vector being $\\vert0\\rangle = \\begin{bmatrix}1\\\\0\\end{bmatrix}$ is visualized as a node of unit radius pointing North. We know that applying an $X$ gate flips the qubit from the state $\\vert0\\rangle$ to the state $\\vert1\\rangle$. To see this clearly, we will first create a single-qubit quantum circuit with the $X$ gate."
   ]
  },
  {
   "cell_type": "code",
   "execution_count": null,
   "metadata": {},
   "outputs": [],
   "source": [
    "mycircuit = QuantumCircuit(1)\n",
    "mycircuit.x(0)\n",
    "\n",
    "mycircuit.draw(\"mpl\")"
   ]
  },
  {
   "cell_type": "markdown",
   "metadata": {},
   "source": [
    "Now, we can apply this circuit onto our state by writing"
   ]
  },
  {
   "cell_type": "code",
   "execution_count": null,
   "metadata": {},
   "outputs": [],
   "source": [
    "sv = Statevector.from_label(\"0\")\n",
    "new_sv = sv.evolve(mycircuit)\n",
    "new_sv"
   ]
  },
  {
   "cell_type": "markdown",
   "metadata": {},
   "source": [
    "As you can see, the statevector now corresponds to that of the state $\\vert1\\rangle$. Recall that\n",
    "\n",
    "$$\\vert1\\rangle = \\begin{bmatrix}0\\\\1\\end{bmatrix}$$"
   ]
  },
  {
   "cell_type": "markdown",
   "metadata": {},
   "source": [
    "Now, the projection of `new_sv` onto `sv` is "
   ]
  },
  {
   "cell_type": "code",
   "execution_count": null,
   "metadata": {},
   "outputs": [],
   "source": [
    "state_fidelity(new_sv, sv)"
   ]
  },
  {
   "cell_type": "markdown",
   "metadata": {},
   "source": [
    "This is not surprising since we know that the states $\\vert0\\rangle$ and $\\vert1\\rangle$ are orthogonal. Therefore, $\\langle0\\vert1\\rangle = 0$. The state can be shown on the `qsphere` by writing"
   ]
  },
  {
   "cell_type": "code",
   "execution_count": null,
   "metadata": {},
   "outputs": [],
   "source": [
    "plot_state_qsphere(new_sv.data)"
   ]
  },
  {
   "cell_type": "markdown",
   "metadata": {},
   "source": [
    "Similarly, we can create the state $$\\frac{1}{\\sqrt{2}}\\left(\\vert0\\rangle + \\vert1\\rangle\\right)$$\n",
    "by applying a Hadamard gate as we learned in Chapter 1. Here is how we can create the state and visualize it in `Qiskit`:"
   ]
  },
  {
   "cell_type": "code",
   "execution_count": null,
   "metadata": {},
   "outputs": [],
   "source": [
    "sv = Statevector.from_label(\"0\")\n",
    "mycircuit = QuantumCircuit(1)\n",
    "mycircuit.h(0)\n",
    "mycircuit.draw(\"mpl\")"
   ]
  },
  {
   "cell_type": "code",
   "execution_count": null,
   "metadata": {},
   "outputs": [],
   "source": [
    "new_sv = sv.evolve(mycircuit)\n",
    "print(new_sv)\n",
    "plot_state_qsphere(new_sv.data)"
   ]
  },
  {
   "cell_type": "markdown",
   "metadata": {},
   "source": [
    "As you can see above, the state has equal components of $\\vert0\\rangle$ and $\\vert1\\rangle$. The size of the circle is proportional to the probability of measuring each basis state in the statevector. As a result, you can see that the size of the circles is half of the size of the circles in our previous visualizations."
   ]
  },
  {
   "cell_type": "markdown",
   "metadata": {},
   "source": [
    "Recall from Chapter 1 that we can also create other superpositions with different phase. Let's create $$\\frac{1}{\\sqrt{2}}\\left(\\vert0\\rangle - \\vert1\\rangle\\right)$$ which can be done by applying the Hadamard gate on the state $\\vert1\\rangle$."
   ]
  },
  {
   "cell_type": "code",
   "execution_count": null,
   "metadata": {},
   "outputs": [],
   "source": [
    "sv = Statevector.from_label(\"1\")\n",
    "mycircuit = QuantumCircuit(1)\n",
    "mycircuit.h(0)\n",
    "mycircuit.draw(\"mpl\")"
   ]
  },
  {
   "cell_type": "code",
   "execution_count": null,
   "metadata": {},
   "outputs": [],
   "source": [
    "new_sv = sv.evolve(mycircuit)\n",
    "print(new_sv)"
   ]
  },
  {
   "cell_type": "code",
   "execution_count": null,
   "metadata": {},
   "outputs": [],
   "source": [
    "plot_state_qsphere(new_sv.data)"
   ]
  },
  {
   "cell_type": "markdown",
   "metadata": {},
   "source": [
    "This time, the bottom circle, corresponding to the basis state $\\vert1\\rangle$ has a different color corresponding to the phase of $\\phi = \\pi$. This is because the coefficient of $\\vert1\\rangle$ in the state $$\\frac{1}{\\sqrt{2}}\\left(\\vert0\\rangle - \\vert1\\rangle\\right)$$ is $-1$, which is equal to $e^{i\\pi}$."
   ]
  },
  {
   "cell_type": "markdown",
   "metadata": {},
   "source": [
    "##  Assignment 0\n",
    "\n",
    "\n",
    "### Part 1:\n",
    "Can you create the state $$\\frac{1}{\\sqrt{2}}\\left(\\vert0\\rangle + \\vert1\\rangle\\right)$$ using a similar procedure? \n",
    "\n",
    "#### Write solution in the following cell"
   ]
  },
  {
   "cell_type": "code",
   "execution_count": null,
   "metadata": {},
   "outputs": [],
   "source": [
    "\"\"\"YOUR SOLUTION CODE HERE\"\"\"\n",
    "\n",
    "# define the input state vector(s)\n",
    "\n",
    "\n",
    "# define the quantum circuit needed to create the state\n",
    "\n",
    "\n",
    "# evolve the Statevector object\n",
    "\n",
    "\n",
    "# print the new state vector data"
   ]
  },
  {
   "cell_type": "markdown",
   "metadata": {},
   "source": [
    "### Part 2:\n",
    "\n",
    "Can you recreate the following quantum circuit?\n",
    "\n",
    "![qc_1](circuit.png)\n",
    "\n",
    "\n",
    "**Hint**: The method to create a Z gate is exactly the same as the X gate but instead of calling the \"x\" method of the QuantumCircuit object we use the \"z\" method, e.g. `QuantumCircuit(num_qubit).z(index_of_qubit)`"
   ]
  },
  {
   "cell_type": "code",
   "execution_count": null,
   "metadata": {},
   "outputs": [],
   "source": [
    "\"\"\"YOUR SOLUTION CODE HERE\"\"\"\n",
    "\n",
    "# define the number of qubits\n",
    "\n",
    "# instantiate a QuantumCircuit object with the required number of qubits\n",
    "\n",
    "# add the gates in their corresponding places as shown in the figure\n",
    "\n",
    "# call the draw method to plot the circuit"
   ]
  },
  {
   "cell_type": "markdown",
   "metadata": {},
   "source": [
    "### Part 3:\n",
    "\n",
    "Using $\\lvert 111 \\rangle$ as the three input qubits, evolve them through the circuit and plot the resultant Q sphere"
   ]
  },
  {
   "cell_type": "code",
   "execution_count": null,
   "metadata": {},
   "outputs": [],
   "source": [
    "\"\"\"YOUR SOLUTION CODE HERE\"\"\"\n",
    "\n",
    "# instatiate the Statevector object using the given input qubits\n",
    "\n",
    "\n",
    "# evolve the Statevector object by passing on the QuantumCircuit object defined in part 2\n",
    "\n",
    "\n",
    "# plot the qsphere using the data from the Statevector object"
   ]
  }
 ],
 "metadata": {
  "kernelspec": {
   "display_name": "Python 3",
   "language": "python",
   "name": "python3"
  },
  "language_info": {
   "codemirror_mode": {
    "name": "ipython",
    "version": 3
   },
   "file_extension": ".py",
   "mimetype": "text/x-python",
   "name": "python",
   "nbconvert_exporter": "python",
   "pygments_lexer": "ipython3",
   "version": "3.8.3"
  }
 },
 "nbformat": 4,
 "nbformat_minor": 4
}
