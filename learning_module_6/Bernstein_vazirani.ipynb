{
 "cells": [
  {
   "cell_type": "markdown",
   "metadata": {},
   "source": [
    "# Bernstein-Vazirani algorithm\n",
    "\n",
    "## The problem that this algorithm aims to solve \n",
    "Suppose there is a function $f(x)$, n-digits variable, $x$, and an n-digits constant, $a$ which satisfies the following equation.\n",
    "\n",
    "<img src=\"https://latex.codecogs.com/gif.latex?f(x)&space;=&space;x&space;\\bullet&space;a&space;\\equiv&space;(x_0&space;\\bullet&space;a_0&space;)&space;\\oplus&space;(x_1&space;\\bullet&space;a_1&space;)&space;\\cdot\\cdot\\cdot&space;\\oplus&space;(x_{n-1}&space;\\bullet&space;a_{n-1&space;})\" title=\"f(x) = x \\bullet a \\equiv (x_0 \\bullet a_0 ) \\oplus (x_1 \\bullet a_1 ) \\cdot\\cdot\\cdot \\oplus (x_{n-1} \\bullet a_{n-1 })\" />  \n",
    "\n",
    "This algorithm can be used to figure out $a$ in just one evaluation, while its classical counterpart takes $n$ time evaluations.\n",
    "\n",
    "1st time:  <img src=\"https://latex.codecogs.com/gif.latex?f(0\\cdot&space;\\cdot&space;\\cdot&space;1)&space;=&space;1\\bullet&space;a_0&space;=&space;a_0\" title=\"f(0\\cdot \\cdot \\cdot 1) = 1\\bullet a_0 = a_0\" />  \n",
    "・  \n",
    "・  \n",
    "・  \n",
    "nth time:  <img src=\"https://latex.codecogs.com/gif.latex?f(1\\cdot&space;\\cdot&space;\\cdot&space;0)&space;=&space;1\\bullet&space;a_{n-1}&space;=&space;a_{n-1}\" title=\"f(1\\cdot \\cdot \\cdot 0) = 1\\bullet a_{n-1} = a_{n-1}\" /> \n",
    "\n",
    "\n",
    "## Mathematical explanation    \n",
    "A hadamard gate is something which perform the following computation.  \n",
    "<img src=\"https://latex.codecogs.com/gif.latex?|x\\rangle&space;\\xrightarrow{H}&space;\\frac{1}{\\sqrt{2^n}}\\sum_{y=0}^{2^n-1}&space;(-1)^{x\\cdot&space;y}|y\\rangle\" title=\"|x\\rangle \\xrightarrow{H} \\frac{1}{\\sqrt{2^n}}\\sum_{y=0}^{2^n-1} (-1)^{x\\cdot y}|y\\rangle\" />  \n",
    "\n",
    "This is the process to get $a$. [Learn More: J.Du & R.Han (2000)(https://arxiv.org/abs/quant-ph/0012114)] \n",
    "<img src=\"https://latex.codecogs.com/gif.latex?(|0\\rangle)^{n}|1\\rangle&space;\\xrightarrow{H(n&plus;1)}\\frac{1}{\\sqrt{2^n}}&space;\\sum_{x=0}^{2^n-1}&space;|x\\rangle&space;\\otimes&space;\\frac{|0\\rangle-|1\\rangle}{\\sqrt{2}}\" title=\"(|0\\rangle)^{n}|1\\rangle \\xrightarrow{H(n+1)}\\frac{1}{\\sqrt{2^n}} \\sum_{x=0}^{2^n-1} |x\\rangle \\otimes \\frac{|0\\rangle-|1\\rangle}{\\sqrt{2}}\" />  \n",
    "<img src=\"https://latex.codecogs.com/gif.latex?\\xrightarrow{U_f}&space;\\frac{1}{\\sqrt{2^n}}\\sum_{x=0}^{2^n-1}&space;(-1)^{s\\cdot&space;x}|x\\rangle&space;\\otimes&space;\\frac{|0\\rangle&space;-&space;|1\\rangle}{\\sqrt{2}}\" title=\"\\xrightarrow{U_f} \\frac{1}{\\sqrt{2^n}}\\sum_{x=0}^{2^n-1} (-1)^{s\\cdot x}|x\\rangle \\otimes \\frac{|0\\rangle - |1\\rangle}{\\sqrt{2}}\" />  \n",
    "<img src=\"https://latex.codecogs.com/gif.latex?\\xrightarrow{H^{(n)}}&space;\\frac{1}{\\sqrt{2^n}}\\sum_{x=0}^{2^n-1}\\sum_{y=0}^{2^n-1}&space;(-1)^{s\\cdot&space;x&space;&plus;&space;x\\cdot&space;y}|y\\rangle&space;\\otimes&space;\\frac{|0\\rangle&space;-&space;|1\\rangle}{\\sqrt{2}}\" title=\"\\xrightarrow{H^{(n)}} \\frac{1}{\\sqrt{2^n}}\\sum_{x=0}^{2^n-1}\\sum_{y=0}^{2^n-1} (-1)^{s\\cdot x + x\\cdot y}|y\\rangle \\otimes \\frac{|0\\rangle - |1\\rangle}{\\sqrt{2}}\" />  \n",
    "<img src=\"https://latex.codecogs.com/gif.latex?\\equiv&space;|s\\rangle&space;\\otimes&space;\\frac{|0\\rangle&space;-|1\\rangle}{\\sqrt{2}}&space;\\xrightarrow{H_n}&space;|s\\rangle&space;\\otimes&space;|1\\rangle\" title=\"\\equiv |s\\rangle \\otimes \\frac{|0\\rangle -|1\\rangle}{\\sqrt{2}} \\xrightarrow{H_n} |s\\rangle \\otimes |1\\rangle\" />(If $y = s$)  \n",
    "\n",
    "## High Level Algorithm\n",
    "- We start with   qubits all in the $ | 0 \\rangle $ state.\n",
    "- We then Hadamard them all.\n",
    "- Next we query $f$ (using the ‘phase’ type of query)\n",
    "\n",
    "## Implementation in qiskit  \n",
    "As an example, I am going to implement the case to get $|111\\rangle$.\n"
   ]
  },
  {
   "cell_type": "code",
   "execution_count": 14,
   "metadata": {},
   "outputs": [
    {
     "data": {
      "image/png": "[encoded data removed]",
      "text/plain": [
       "<Figure size 730.828x325.08 with 1 Axes>"
      ]
     },
     "execution_count": 14,
     "metadata": {},
     "output_type": "execute_result"
    }
   ],
   "source": [
    "from qiskit import *\n",
    "from qiskit.visualization import *\n",
    "\n",
    "# Suppose a(the number we want to obtain) = 111\n",
    "# This is the oracle\n",
    "def bv_oracle(qci,n):\n",
    "    for i in range(n):\n",
    "        qci.cx(q[i],q[n])\n",
    "        \n",
    "#The number of qubits    \n",
    "bn = 4\n",
    "#The number of classical bits\n",
    "cn = 3\n",
    "\n",
    "q = QuantumRegister(bn)\n",
    "c = ClassicalRegister(cn)\n",
    "qc = QuantumCircuit(q,c)\n",
    "\n",
    "#Flip the last qubit\n",
    "qc.x(q[3])\n",
    "\n",
    "#Put hadamard transform on all the qubits\n",
    "for i in range(bn):\n",
    "    qc.h(q[i])\n",
    "    \n",
    "#Put the oracle\n",
    "bv_oracle(qc,3)\n",
    "\n",
    "#Put Put hadamard transform again\n",
    "for i in range(bn):\n",
    "    qc.h(q[i])\n",
    "    \n",
    "for j in range(cn):\n",
    "    qc.measure(q[cn-j-1],c[j])\n",
    "    \n",
    "qc.draw(\"mpl\")"
   ]
  },
  {
   "cell_type": "code",
   "execution_count": 15,
   "metadata": {},
   "outputs": [
    {
     "data": {
      "image/png": "[encoded data removed]",
      "text/plain": [
       "<Figure size 504x360 with 1 Axes>"
      ]
     },
     "execution_count": 15,
     "metadata": {},
     "output_type": "execute_result"
    }
   ],
   "source": [
    "backend = 'qasm_simulator'\n",
    "\n",
    "backend_sim = Aer.get_backend(backends[1])\n",
    "result = execute(qc, backend_sim, shots=1024).result()\n",
    "\n",
    "plot_histogram(result.get_counts(qc))"
   ]
  },
  {
   "cell_type": "markdown",
   "metadata": {},
   "source": [
    "## Result\n",
    "\n",
    "As expected, we get $|111\\rangle$ $100\\%$ of the times through simulation.  \n",
    "\n",
    "And Here is the result on a real device.  \n",
    "![screen shot 2019-01-07 at 5 47 18 pm](https://user-images.githubusercontent.com/45162150/50758053-67fbc300-12a4-11e9-8117-7497c9ec6684.png)  \n",
    "\n",
    "## Reference  \n",
    "J Du and R Han(2001), *Implementation of a quantum algorithm to solve the Bernstein-Vazirani parity problem without entanglement on an ensemble quantum computer*, Phys. Rev. A 64, 042306\n",
    "\n",
    "## Alternative Learning Resource\n",
    "- [qiskit-youtube-link](https://www.youtube.com/watch?v=sqJIpHYl7oo&vl=en-US)\n",
    "\n",
    "- A chapter on Bernstein Vazirani (also in the zip file)\n",
    "![seminar_chapter](bpdf.pdf)\n"
   ]
  }
 ],
 "metadata": {
  "kernelspec": {
   "display_name": "Python 3",
   "language": "python",
   "name": "python3"
  },
  "language_info": {
   "codemirror_mode": {
    "name": "ipython",
    "version": 3
   },
   "file_extension": ".py",
   "mimetype": "text/x-python",
   "name": "python",
   "nbconvert_exporter": "python",
   "pygments_lexer": "ipython3",
   "version": "3.8.3"
  }
 },
 "nbformat": 4,
 "nbformat_minor": 4
}
